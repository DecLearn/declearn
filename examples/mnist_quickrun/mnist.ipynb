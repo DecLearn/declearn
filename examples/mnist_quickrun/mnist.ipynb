{
 "cells": [
  {
   "attachments": {},
   "cell_type": "markdown",
   "metadata": {},
   "source": [
    "This notebook is meant to be run in google colab. You can find import your local copy of the file in the the [colab welcome page](https://colab.research.google.com/)."
   ]
  },
  {
   "cell_type": "markdown",
   "metadata": {
    "id": "s9bpLdH5ThpJ"
   },
   "source": [
    "# Setting up your declearn "
   ]
  },
  {
   "cell_type": "markdown",
   "metadata": {
    "id": "Clzf4NTja121"
   },
   "source": [
    "We first clone the repo, to have both the package itself and the `examples` folder we will use in this tutorial, then naviguate to the package directory, and finally install the required dependencies"
   ]
  },
  {
   "cell_type": "code",
   "execution_count": null,
   "metadata": {
    "colab": {
     "base_uri": "https://localhost:8080/"
    },
    "id": "u2QDwb0_QQ_f",
    "outputId": "cac0761c-b229-49b0-d71d-c7b5cef919b3"
   },
   "outputs": [],
   "source": [
    "# you may want to specify a release branch or tag\n",
    "!git clone https://gitlab.inria.fr/magnet/declearn/declearn2"
   ]
  },
  {
   "cell_type": "code",
   "execution_count": null,
   "metadata": {
    "colab": {
     "base_uri": "https://localhost:8080/"
    },
    "id": "9kDHh_AfPG2l",
    "outputId": "74e2f85f-7f93-40ae-a218-f4403470d72c"
   },
   "outputs": [],
   "source": [
    "cd declearn2"
   ]
  },
  {
   "cell_type": "code",
   "execution_count": null,
   "metadata": {
    "colab": {
     "base_uri": "https://localhost:8080/"
    },
    "id": "Un212t1GluHB",
    "outputId": "0ea67577-da6e-4f80-a412-7b7a79803aa1"
   },
   "outputs": [],
   "source": [
    "# Install the package, with TensorFlow and Websockets extra dependencies.\n",
    "# You may want to work in a dedicated virtual environment.\n",
    "!pip install .[tensorflow,websockets]"
   ]
  },
  {
   "cell_type": "markdown",
   "metadata": {
    "id": "hC8Fty8YTy9P"
   },
   "source": [
    "# Running your first experiment"
   ]
  },
  {
   "cell_type": "markdown",
   "metadata": {
    "id": "rcWcZJdob1IG"
   },
   "source": [
    "We are going to train a common model between three simulated clients on the classic [MNIST dataset](http://yann.lecun.com/exdb/mnist/). The input of the model is a set of images of handwritten digits, and the model needs to determine which number between 0 and 9 each image corresponds to."
   ]
  },
  {
   "cell_type": "markdown",
   "metadata": {
    "id": "KlY_vVtFHv2P"
   },
   "source": [
    "## The model\n",
    "\n",
    "To do this, we will use a simple CNN, defined in `examples/mnist_quickrun/model.py`"
   ]
  },
  {
   "cell_type": "code",
   "execution_count": null,
   "metadata": {
    "colab": {
     "base_uri": "https://localhost:8080/"
    },
    "id": "C7D52a8_dEr7",
    "outputId": "a25223f8-c8eb-4998-d7fd-4b8bfde92486"
   },
   "outputs": [
    {
     "name": "stdout",
     "output_type": "stream",
     "text": [
      "Model: \"sequential\"\n",
      "_________________________________________________________________\n",
      " Layer (type)                Output Shape              Param #   \n",
      "=================================================================\n",
      " conv2d (Conv2D)             (None, 26, 26, 8)         80        \n",
      "                                                                 \n",
      " max_pooling2d (MaxPooling2D  (None, 13, 13, 8)        0         \n",
      " )                                                               \n",
      "                                                                 \n",
      " dropout (Dropout)           (None, 13, 13, 8)         0         \n",
      "                                                                 \n",
      " flatten (Flatten)           (None, 1352)              0         \n",
      "                                                                 \n",
      " dense (Dense)               (None, 64)                86592     \n",
      "                                                                 \n",
      " dropout_1 (Dropout)         (None, 64)                0         \n",
      "                                                                 \n",
      " dense_1 (Dense)             (None, 10)                650       \n",
      "                                                                 \n",
      "=================================================================\n",
      "Total params: 87,322\n",
      "Trainable params: 87,322\n",
      "Non-trainable params: 0\n",
      "_________________________________________________________________\n"
     ]
    }
   ],
   "source": [
    "from examples.mnist_quickrun.model import network\n",
    "network.summary()"
   ]
  },
  {
   "cell_type": "markdown",
   "metadata": {
    "id": "HoBcOs9hH2QA"
   },
   "source": [
    "## The data\n",
    "\n",
    "We start by splitting the MNIST dataset between 3 clients and storing the output in the `examples/mnist_quickrun` folder. For this we use an experimental utility provided by `declearn`. "
   ]
  },
  {
   "cell_type": "code",
   "execution_count": null,
   "metadata": {
    "colab": {
     "base_uri": "https://localhost:8080/"
    },
    "id": "quduXkpIWFjL",
    "outputId": "ddf7d45d-acf0-44ee-ce77-357c0987a2a1"
   },
   "outputs": [
    {
     "name": "stdout",
     "output_type": "stream",
     "text": [
      "Downloading MNIST source file train-images-idx3-ubyte.gz.\n",
      "Downloading MNIST source file train-labels-idx1-ubyte.gz.\n",
      "Splitting data into 3 shards using the 'iid' scheme.\n"
     ]
    }
   ],
   "source": [
    "from declearn.dataset import split_data\n",
    "\n",
    "split_data(folder=\"examples/mnist_quickrun\")"
   ]
  },
  {
   "cell_type": "markdown",
   "metadata": {},
   "source": [
    "The python code above is equivalent to running `declearn-split examples/mnist_quickrun/` in a shell command-line."
   ]
  },
  {
   "cell_type": "markdown",
   "metadata": {
    "id": "3-2hKmz-2RF4"
   },
   "source": [
    "Here is what the first image of the first client looks like:"
   ]
  },
  {
   "cell_type": "code",
   "execution_count": null,
   "metadata": {
    "colab": {
     "base_uri": "https://localhost:8080/",
     "height": 430
    },
    "id": "MLVI9GOZ1TGd",
    "outputId": "f34a6a93-cb5f-4a45-bc24-4146ea119d1a"
   },
   "outputs": [
    {
     "data": {
      "image/png": "[encoded data removed]",
      "text/plain": [
       "<Figure size 640x480 with 1 Axes>"
      ]
     },
     "metadata": {},
     "output_type": "display_data"
    }
   ],
   "source": [
    "import matplotlib.pyplot as plt\n",
    "import numpy as np\n",
    "\n",
    "images = np.load(\"examples/mnist_quickrun/data_iid/client_0/train_data.npy\")\n",
    "sample_img = images[0]\n",
    "sample_fig = plt.imshow(sample_img,cmap='Greys')\n"
   ]
  },
  {
   "cell_type": "markdown",
   "metadata": {
    "id": "1vNWNGjefSfH"
   },
   "source": [
    "For more information on how the `split_data` function works, you can look at the documentation. "
   ]
  },
  {
   "cell_type": "code",
   "execution_count": null,
   "metadata": {
    "colab": {
     "base_uri": "https://localhost:8080/"
    },
    "id": "-wORmq5DYfRF",
    "outputId": "4d79da63-ccad-4622-e600-ac36fae1ff3f"
   },
   "outputs": [
    {
     "name": "stdout",
     "output_type": "stream",
     "text": [
      "Randomly split a dataset into shards.\n",
      "\n",
      "    The resulting folder structure is :\n",
      "        folder/\n",
      "        └─── data*/\n",
      "            └─── client*/\n",
      "            │      train_data.* - training data\n",
      "            │      train_target.* - training labels\n",
      "            │      valid_data.* - validation data\n",
      "            │      valid_target.* - validation labels\n",
      "            └─── client*/\n",
      "            │    ...\n",
      "\n",
      "    Parameters\n",
      "    ----------\n",
      "    folder: str, default = \".\"\n",
      "        Path to the folder where to add a data folder\n",
      "        holding output shard-wise files\n",
      "    data_file: str or None, default=None\n",
      "        Optional path to a folder where to find the data.\n",
      "        If None, default to the MNIST example.\n",
      "    target_file: str or int or None, default=None\n",
      "        If str, path to the labels file to import, or name of a `data`\n",
      "        column to use as labels (only if `data` points to a csv file).\n",
      "        If int, index of a `data` column of to use as labels).\n",
      "        Required if data is not None, ignored if data is None.\n",
      "    n_shards: int\n",
      "        Number of shards between which to split the data.\n",
      "    scheme: {\"iid\", \"labels\", \"biased\"}, default=\"iid\"\n",
      "        Splitting scheme(s) to use. In all cases, shards contain mutually-\n",
      "        exclusive samples and cover the full raw training data.\n",
      "        - If \"iid\", split the dataset through iid random sampling.\n",
      "        - If \"labels\", split into shards that hold all samples associated\n",
      "        with mutually-exclusive target classes.\n",
      "        - If \"biased\", split the dataset through random sampling according\n",
      "        to a shard-specific random labels distribution.\n",
      "    perc_train: float, default= 0.8\n",
      "        Train/validation split in each client dataset, must be in the\n",
      "        ]0,1] range.\n",
      "    seed: int or None, default=None\n",
      "        Optional seed to the RNG used for all sampling operations.\n",
      "    \n"
     ]
    }
   ],
   "source": [
    "print(split_data.__doc__)"
   ]
  },
  {
   "cell_type": "markdown",
   "metadata": {
    "id": "kZtbxlwUftKd"
   },
   "source": [
    "## Quickrun\n",
    "\n",
    "We can now run our experiment. As explained in the section 2.1 of the [quickstart documentation](https://magnet.gitlabpages.inria.fr/declearn/docs/latest/quickstart), using the `declearn-quickrun` entry-point requires a configuration file, some data, and a model:\n",
    "\n",
    "* A TOML file, to store your experiment configurations. Here: \n",
    "`examples/mnist_quickrun/config.toml`.\n",
    "* A folder with your data, split by client. Here: `examples/mnist_quickrun/data_iid`\n",
    "* A model python file, to declare your model wrapped in a `declearn` object. Here: `examples/mnist_quickrun/model.py`.\n",
    "\n",
    "We then only have to run the `quickrun` util with the path to the TOML file:"
   ]
  },
  {
   "cell_type": "code",
   "execution_count": null,
   "metadata": {
    "id": "1n_mvTIIWpRf"
   },
   "outputs": [],
   "source": [
    "from declearn.quickrun import quickrun\n",
    "\n",
    "quickrun(config=\"examples/mnist_quickrun/config.toml\")"
   ]
  },
  {
   "cell_type": "markdown",
   "metadata": {},
   "source": [
    "The python code above is equivalent to running `declearn-quickrun examples/mnist_quickrun/config.toml` in a shell command-line."
   ]
  },
  {
   "cell_type": "markdown",
   "metadata": {
    "id": "O0kuw7UxJqKk"
   },
   "source": [
    "The output obtained is the combination of the CLI output of our server and our clients, going through: \n",
    "\n",
    "* `INFO:Server:Starting clients registration process.` : a first registration step, where clients register with the server\n",
    "* `INFO:Server:Sending initialization requests to clients.`: the initilization of the object needed for training on both the server and clients side.\n",
    "* `Server:INFO: Initiating training round 1`: the training starts, where each client makes its local update(s) and send the result to the server which aggregates them\n",
    "* `INFO: Initiating evaluation round 1`: the model is evaluated at each round\n",
    "* `Server:INFO: Stopping training`: the training is finalized  "
   ]
  },
  {
   "cell_type": "markdown",
   "metadata": {
    "id": "wo6NDugiOH6V"
   },
   "source": [
    "## Results \n",
    "\n",
    "You can have a look at the results in the `examples/mnist_quickrun/result_*` folder, including the metrics evolution during training. "
   ]
  },
  {
   "cell_type": "code",
   "execution_count": null,
   "metadata": {
    "id": "zlm5El13SvnG"
   },
   "outputs": [],
   "source": [
    "import pandas as pd\n",
    "import glob\n",
    "import os \n",
    "\n",
    "res_file = glob.glob('examples/mnist_quickrun/result*') \n",
    "res = pd.read_csv(os.path.join(res_file[0],'server/metrics.csv'))\n",
    "res_fig = res.plot()"
   ]
  },
  {
   "cell_type": "markdown",
   "metadata": {
    "id": "Kd_MBQt9OJ40"
   },
   "source": [
    "# Experiment further\n",
    "\n",
    "\n",
    "You can change the TOML config file to experiment with different strategies."
   ]
  },
  {
   "cell_type": "markdown",
   "metadata": {
    "id": "E3OOeAYJRGqU"
   },
   "source": [
    "For instance, try splitting the data in a very heterogenous way, by distributing digits in mutually exclusive way between clients. "
   ]
  },
  {
   "cell_type": "code",
   "execution_count": null,
   "metadata": {
    "id": "BNPLnpQuQ8Au"
   },
   "outputs": [],
   "source": [
    "split_data(folder=\"examples/mnist_quickrun\",scheme='labels')"
   ]
  },
  {
   "cell_type": "markdown",
   "metadata": {
    "id": "Xfs-3wH-3Eio"
   },
   "source": [
    "And change the `examples/mnist_quickrun/config.toml` file with:\n",
    "\n",
    "```\n",
    "[data] \n",
    "    data_folder = \"examples/mnist_quickrun/data_labels\" \n",
    "```"
   ]
  },
  {
   "cell_type": "markdown",
   "metadata": {
    "id": "ZZVFNO07O1ry"
   },
   "source": [
    "If you run the model as is, you should see a drop of performance\n",
    "\n"
   ]
  },
  {
   "cell_type": "code",
   "execution_count": null,
   "metadata": {
    "id": "7kFa0EbINJXq"
   },
   "outputs": [],
   "source": [
    "quickrun(config=\"examples/mnist_quickrun/config.toml\")"
   ]
  },
  {
   "cell_type": "markdown",
   "metadata": {
    "id": "XV6JfaRzR3ee"
   },
   "source": [
    "Now try modifying the `examples/mnist_quickrun/config.toml` file like this, to implement the [scaffold algorithm](https://arxiv.org/abs/1910.06378) and running the experiment again. \n",
    "\n",
    "```\n",
    "  [optim]\n",
    "\n",
    "      [optim.client_opt]\n",
    "      lrate = 0.005 \n",
    "      modules = [\"scaffold-client\"] \n",
    "\n",
    "      [optim.server_opt]\n",
    "      lrate = 1.0 \n",
    "      modules = [\"scaffold-client\"]\n",
    "```"
   ]
  },
  {
   "cell_type": "code",
   "execution_count": null,
   "metadata": {
    "id": "FK6c9HDjSdGZ"
   },
   "outputs": [],
   "source": [
    "quickrun(config=\"examples/mnist_quickrun/config.toml\")"
   ]
  }
 ],
 "metadata": {
  "colab": {
   "collapsed_sections": [
    "s9bpLdH5ThpJ",
    "KlY_vVtFHv2P",
    "HoBcOs9hH2QA",
    "kZtbxlwUftKd",
    "wo6NDugiOH6V",
    "Kd_MBQt9OJ40"
   ],
   "provenance": []
  },
  "kernelspec": {
   "display_name": "Python 3 (ipykernel)",
   "language": "python",
   "name": "python3"
  },
  "language_info": {
   "codemirror_mode": {
    "name": "ipython",
    "version": 3
   },
   "file_extension": ".py",
   "mimetype": "text/x-python",
   "name": "python",
   "nbconvert_exporter": "python",
   "pygments_lexer": "ipython3",
   "version": "3.10.4"
  }
 },
 "nbformat": 4,
 "nbformat_minor": 1
}
